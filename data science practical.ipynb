{
 "cells": [
  {
   "cell_type": "markdown",
   "id": "6fa66888",
   "metadata": {},
   "source": [
    "### AB_ReAP \n",
    "\n",
    "## 6TH ANNUAL FORUM-CONFERENCE AND WORKSHOP\n",
    "\n",
    "##### 13-02-2024"
   ]
  },
  {
   "cell_type": "markdown",
   "id": "0cd04399",
   "metadata": {},
   "source": [
    "### Lab2: Exercise2"
   ]
  },
  {
   "cell_type": "markdown",
   "id": "05d0843a",
   "metadata": {},
   "source": [
    "1. Create a list\n",
    "\n",
    "Create a list, areas, that contains the area of the hallway (hall), kitchen (kit), living room (liv), bedroom (bed) and bathroom (bath), in this order. Use the predefined variables.\n",
    "\n",
    "Print areas with the print() function."
   ]
  },
  {
   "cell_type": "code",
   "execution_count": 1,
   "id": "ec3cf92e",
   "metadata": {},
   "outputs": [
    {
     "name": "stdout",
     "output_type": "stream",
     "text": [
      "[11.25, 18.0, 20.0, 10.75, 9.5]\n"
     ]
    }
   ],
   "source": [
    "# area variables (in square meters)\n",
    "hall= 11.25\n",
    "kit= 18.0\n",
    "liv= 20.0\n",
    "bed= 10.75\n",
    "bath= 9.50\n",
    "\n",
    "# Create list areas\n",
    "areas= [hall, kit, liv, bed, bath]\n",
    "\n",
    "# Print areas\n",
    "print(areas)"
   ]
  },
  {
   "cell_type": "markdown",
   "id": "2ff2a2d7",
   "metadata": {},
   "source": [
    "2. Create list with different types\n",
    "\n",
    "Finish the code that creates the areas list. Build the list so that the list first contains the name of each room as a string and then its area. In other words, add the strings \"hallway\", \"kitchen\" and \"bedroom\" at the appropriate locations.\n",
    "\n",
    "Print areas again; is the printout more informative this time?"
   ]
  },
  {
   "cell_type": "code",
   "execution_count": 12,
   "id": "4aa60e5e",
   "metadata": {},
   "outputs": [
    {
     "name": "stdout",
     "output_type": "stream",
     "text": [
      "['hallway', 11.25, 'kitchen', 18.0, 'living room', 20.0, 'bedroom', 10.75, 'bathroom', 9.5]\n"
     ]
    }
   ],
   "source": [
    "# area variables (in square meters)\n",
    "hall = 11.25\n",
    "kit = 18.0\n",
    "liv = 20.0\n",
    "bed = 10.75\n",
    "bath = 9.50\n",
    "\n",
    "# Adapt list areas \n",
    "areas= [\"hallway\", hall, \"kitchen\", kit, \"living room\", liv, \"bedroom\", bed, \"bathroom\", bath]\n",
    "\n",
    "# Print areas\n",
    "print(areas)"
   ]
  },
  {
   "cell_type": "markdown",
   "id": "7a4159b0",
   "metadata": {},
   "source": [
    "3. Select the valid list\n",
    "\n",
    "Can you tell which ones of the following lines of Python code are valid ways to build a list?\n",
    "\n",
    "A. [1, 3, 4, 2] <br>B. [[1, 2, 3], [4, 5, 7]] <br>C. [1 + 2, \"a\" * 5, 3]"
   ]
  },
  {
   "cell_type": "markdown",
   "id": "ac1fb73b",
   "metadata": {},
   "source": []
  },
  {
   "cell_type": "markdown",
   "id": "8cfb910c",
   "metadata": {},
   "source": [
    "4. List of lists\n",
    "\n",
    "* Finish the list of lists so that it also contains the bedroom and bathroom data. Make sure you enter these in order!\n",
    "* Print out house; does this way of structuring your data make more sense?\n",
    "* Print out the type of house. Are you still dealing with a list?"
   ]
  },
  {
   "cell_type": "code",
   "execution_count": 1,
   "id": "318ceee4",
   "metadata": {},
   "outputs": [
    {
     "name": "stdout",
     "output_type": "stream",
     "text": [
      "['hallway', 11.25, 'kitchen', 18.0, 'living room', 20.0, 'bedroom', 10.75, 'bathroom', 9.5]\n",
      "<class 'list'>\n"
     ]
    }
   ],
   "source": [
    "# area variables (in square meters)\n",
    "[\"hallway\", 11.25, \"kitchen\", 18.0, \"living room\", 20.0, \"bedroom\", 10.75, \"bathroom\", 9.5]\n",
    "\n",
    "# house information as list of lists\n",
    "house= [\"hallway\", 11.25, \"kitchen\", 18.0, \"living room\",\n",
    "                    20.0, \"bedroom\", 10.75, \"bathroom\", 9.5]\n",
    "\n",
    "# Print out house\n",
    "print(house)\n",
    "\n",
    "# Print out the type of house\n",
    "print(type(house))"
   ]
  },
  {
   "cell_type": "markdown",
   "id": "2371a0d3",
   "metadata": {},
   "source": [
    "5. Subset and conquer\n",
    "\n",
    "Print out the second element from the areas list (it has the value 11.25).\n",
    "\n",
    "Subset and print out the last element of areas, being 9.50. Using a negative index makes sense here!\n",
    "\n",
    "Select the number representing the area of the living room (20.0) and print it out."
   ]
  },
  {
   "cell_type": "code",
   "execution_count": 15,
   "id": "311ba12f",
   "metadata": {},
   "outputs": [
    {
     "name": "stdout",
     "output_type": "stream",
     "text": [
      "[11.25]\n",
      "9.5\n",
      "[20.0]\n"
     ]
    }
   ],
   "source": [
    "# Create the areas list\n",
    "areas= [\"hallway\", 11.25, \"kitchen\", 18.0, \"living room\", 20.0, \"bedroom\", 10.75, \"bathroom\", 9.5]\n",
    "\n",
    "# Print out second element from areas\n",
    "print(areas[1:2])\n",
    "\n",
    "# Print out last element from areas\n",
    "print(areas[-1])\n",
    "\n",
    "# Print out the area of the living room\n",
    "print(areas[5:6])"
   ]
  },
  {
   "cell_type": "markdown",
   "id": "a8a920af",
   "metadata": {},
   "source": [
    "6. Subset and calculate\n",
    "\n",
    "Using a combination of list subsetting and variable assignment, create a new variable, eat_sleep_area, that contains the sum of the area of the kitchen and the area of the bedroom.\n",
    "\n",
    "Print the new variable eat_sleep_area.\n"
   ]
  },
  {
   "cell_type": "code",
   "execution_count": 25,
   "id": "c80ed951",
   "metadata": {},
   "outputs": [
    {
     "name": "stdout",
     "output_type": "stream",
     "text": [
      "[18.0, 10.75]\n"
     ]
    }
   ],
   "source": [
    "## Create the areas list\n",
    "[\"hallway\", 11.25, \"kitchen\", 18.0, \"living room\", 20.0, \"bedroom\", 10.75, \"bathroom\", 9.5]\n",
    "\n",
    "\n",
    "# Sum of kitchen and bedroom area: eat_sleep_area\n",
    "eat_sleep_area= areas[3:4] + areas[7:8]\n",
    "\n",
    "# Print the variable eat_sleep_area\n",
    "print(eat_sleep_area)\n",
    "\n"
   ]
  },
  {
   "cell_type": "markdown",
   "id": "a296a2bc",
   "metadata": {
    "scrolled": true
   },
   "source": [
    "7. Slicing and dicing\n",
    "\n",
    "Use slicing to create a list, downstairs, that contains the first 6 elements of areas.\n",
    "\n",
    "Do a similar thing to create a new variable, upstairs, that contains the last 4 elements of areas.\n",
    "\n",
    "Print both downstairs and upstairs using print()."
   ]
  },
  {
   "cell_type": "code",
   "execution_count": 15,
   "id": "0a59242c",
   "metadata": {},
   "outputs": [
    {
     "name": "stdout",
     "output_type": "stream",
     "text": [
      "['hallway', 11.25, 'kitchen', 18.0, 'living room', 20.0] ['bedroom', 10.75, 'bathroom', 9.5]\n"
     ]
    }
   ],
   "source": [
    "# Create the areas list\n",
    "\n",
    "[\"hallway\", 11.25, \"kitchen\", 18.0, \"living room\", 20.0, \"bedroom\", 10.75, \"bathroom\", 9.5]\n",
    "\n",
    "# Use slicing to create downstairs\n",
    "upstairs= areas[0:6]\n",
    "\n",
    "# Use slicing to create upstairs\n",
    "downstairs= areas[6:]\n",
    "\n",
    "# Print out downstairs and upstairs\n",
    "print(upstairs, downstairs)"
   ]
  },
  {
   "cell_type": "markdown",
   "id": "cf68af90",
   "metadata": {
    "scrolled": true
   },
   "source": [
    "8. Slicing and dicing\n",
    "\n",
    "Use slicing to create a list, downstairs, that contains the first 6 elements of areas.\n",
    "\n",
    "Do a similar thing to create a new variable, upstairs, that contains the last 4 elements of areas.\n",
    "\n",
    "Print both downstairs and upstairs using print()."
   ]
  },
  {
   "cell_type": "code",
   "execution_count": null,
   "id": "0a1e79ec",
   "metadata": {},
   "outputs": [],
   "source": [
    "# Create the areas list\n",
    "\n",
    "\n",
    "# Use slicing to create downstairs\n",
    "\n",
    "# Use slicing to create upstairs\n",
    "\n",
    "\n",
    "# Print out downstairs and upstairs\n",
    "\n"
   ]
  },
  {
   "cell_type": "markdown",
   "id": "0c16748f",
   "metadata": {
    "scrolled": true
   },
   "source": [
    "9. Slicing and dicing (2)\n",
    "\n",
    "Create downstairs again, as the first 6 elements of areas. This time, simplify the slicing by omitting the begin index.\n",
    "\n",
    "Create upstairs again, as the last 4 elements of areas. This time, simplify the slicing by omitting the end index."
   ]
  },
  {
   "cell_type": "code",
   "execution_count": 17,
   "id": "90d989f1",
   "metadata": {
    "scrolled": true
   },
   "outputs": [],
   "source": [
    "# Create the areas list\n",
    "[\"hallway\", 11.25, \"kitchen\", 18.0, \"living room\", 20.0, \"bedroom\", 10.75, \"bathroom\", 9.5]\n",
    "\n",
    "# Alternative slicing to create downstairs\n",
    "upstairs= areas[1:6]\n",
    "\n",
    "# Alternative slicing to create upstairs\n",
    "downstairs= areas[5:]"
   ]
  },
  {
   "cell_type": "markdown",
   "id": "25eb17c7",
   "metadata": {},
   "source": [
    "10. Replace list elements\n",
    "\n",
    "Update the area of the bathroom area to be 10.50 square meters instead of 9.50.\n",
    "\n",
    "Make the areas list more trendy! Change \"living room\" to \"chill zone\"."
   ]
  },
  {
   "cell_type": "code",
   "execution_count": 32,
   "id": "e76acd49",
   "metadata": {},
   "outputs": [
    {
     "name": "stdout",
     "output_type": "stream",
     "text": [
      "['hallway', 11.25, 'kitchen', 18.0, 'living room', 20.0, 'bedroom', 10.75, 'bathroom', 10.5]\n",
      "['hallway', 11.25, 'kitchen', 18.0, 'chill zone', 20.0, 'bedroom', 10.75, 'bathroom', 10.5]\n"
     ]
    }
   ],
   "source": [
    "# Create the areas list\n",
    "areas = [\"hallway\", 11.25, \"kitchen\", 18.0, \"living room\", 20.0, \"bedroom\", 10.75, \"bathroom\", 9.50]\n",
    "\n",
    "# Correct the bathroom area\n",
    "areas[-1]= 10.50\n",
    "print(areas)\n",
    "\n",
    "\n",
    "# Change \"living room\" to \"chill zone\"\n",
    "areas[4]= \"chill zone\"\n",
    "print(areas)"
   ]
  },
  {
   "cell_type": "markdown",
   "id": "23248566",
   "metadata": {},
   "source": [
    "11. Extend a list\n",
    "\n",
    "Use the + operator to paste the list [\"poolhouse\", 24.5] to the end of the areas list. Store the resulting list as areas_1.\n",
    "\n",
    "Further extend areas_1 by adding data on your garage. Add the string \"garage\" and float 15.45. Name the resulting list areas_2."
   ]
  },
  {
   "cell_type": "code",
   "execution_count": 39,
   "id": "32f835d9",
   "metadata": {},
   "outputs": [
    {
     "name": "stdout",
     "output_type": "stream",
     "text": [
      "['hallway', 11.25, 'kitchen', 18.0, 'chill zone', 20.0, 'bedroom', 10.75, 'bathroom', 10.5, 'poolhouse', 24.5]\n",
      "['hallway', 11.25, 'kitchen', 18.0, 'chill zone', 20.0, 'bedroom', 10.75, 'bathroom', 10.5, 'poolhouse', 24.5, 'garage', 15.45]\n"
     ]
    }
   ],
   "source": [
    "# Create the areas list and make some changes\n",
    "areas = [\"hallway\", 11.25, \"kitchen\", 18.0, \"chill zone\", 20.0,\n",
    "         \"bedroom\", 10.75, \"bathroom\", 10.50]\n",
    "\n",
    "# Add poolhouse data to areas, new list is areas_1\n",
    "areas_1= areas + [\"poolhouse\", 24.5]\n",
    "print(areas_1)\n",
    "\n",
    "# Add garage data to areas_1, new list is areas_2\n",
    "areas_2= areas_1 + [\"garage\", 15.45]\n",
    "print(areas_2)"
   ]
  },
  {
   "cell_type": "markdown",
   "id": "523510dd",
   "metadata": {},
   "source": [
    "12. Inner workings of lists\n",
    "\n",
    "Change the second command, that creates the variable areas_copy, such that areas_copy is an explicit copy of areas. After your edit, changes made to areas_copy shouldn't affect areas. Submit the answer to check this."
   ]
  },
  {
   "cell_type": "code",
   "execution_count": 41,
   "id": "04a55c94",
   "metadata": {},
   "outputs": [
    {
     "name": "stdout",
     "output_type": "stream",
     "text": [
      "[11.25, 18.0, 20.0, 10.75, 9.5]\n"
     ]
    }
   ],
   "source": [
    "# Create list areas\n",
    "areas = [11.25, 18.0, 20.0, 10.75, 9.50]\n",
    "\n",
    "# Create areas_copy\n",
    "areas_copy = areas[0:4]\n",
    "\n",
    "# Change areas_copy\n",
    "areas_copy[0] = 5.0\n",
    "\n",
    "# Print areas\n",
    "print(areas)"
   ]
  },
  {
   "cell_type": "markdown",
   "id": "68beaf70",
   "metadata": {},
   "source": [
    "13. Familiar functions\n",
    "\n",
    "Use print() in combination with type() to print out the type of var1.\n",
    "\n",
    "Use len() to get the length of the list var1. Wrap it in a print() call to directly print it out.\n",
    "\n",
    "Use int() to convert var2 to an integer. Store the output as out2."
   ]
  },
  {
   "cell_type": "code",
   "execution_count": 42,
   "id": "137db488",
   "metadata": {},
   "outputs": [
    {
     "name": "stdout",
     "output_type": "stream",
     "text": [
      "<class 'list'>\n",
      "4\n",
      "1\n"
     ]
    }
   ],
   "source": [
    "# Create variables var1 and var2\n",
    "var1 = [1, 2, 3, 4]\n",
    "var2 = True\n",
    "\n",
    "# Print out type of var1\n",
    "print(type(var1))\n",
    "\n",
    "# Print out length of var1\n",
    "print(len(var1))\n",
    "\n",
    "# Convert var2 to an integer: out2\n",
    "out2= int(var2)\n",
    "print(out2)"
   ]
  },
  {
   "cell_type": "markdown",
   "id": "96f6ce3d",
   "metadata": {},
   "source": [
    "14. Multiple arguments\n",
    "\n",
    "Use + to merge the contents of first and second into a new list: full.\n",
    "\n",
    "Call sorted() on full and specify the reverse argument to be True. Save the sorted list as full_sorted.\n",
    "\n",
    "Finish off by printing out full_sorted."
   ]
  },
  {
   "cell_type": "code",
   "execution_count": 46,
   "id": "dff1481d",
   "metadata": {},
   "outputs": [
    {
     "name": "stdout",
     "output_type": "stream",
     "text": [
      "[20.0, 18.0, 11.25, 10.75, 9.5]\n"
     ]
    }
   ],
   "source": [
    "# Create lists first and second\n",
    "first = [11.25, 18.0, 20.0]\n",
    "second = [10.75, 9.50]\n",
    "\n",
    "# Paste together first and second: full\n",
    "full= first + second\n",
    "\n",
    "# Sort full in descending order: full_sorted\n",
    "full_sorted= sorted(full, reverse= True) \n",
    "\n",
    "\n",
    "# Print out full_sorted\n",
    "print(full_sorted)"
   ]
  },
  {
   "cell_type": "markdown",
   "id": "3260caba",
   "metadata": {},
   "source": [
    "15. String Methods\n",
    "\n",
    "Use the upper() method on place and store the result in place_up. Use the syntax for calling methods that you learned in the previous video.\n",
    "\n",
    "Print out place and place_up. Did both change?\n",
    "\n",
    "Print out the number of o's on the variable place by calling count() on place and passing the letter 'o' as an input to the method. We're talking about the variable place, not the word \"place\"!"
   ]
  },
  {
   "cell_type": "code",
   "execution_count": 49,
   "id": "8a75d129",
   "metadata": {},
   "outputs": [
    {
     "name": "stdout",
     "output_type": "stream",
     "text": [
      "poolhouse\n",
      "POOLHOUSE\n",
      "3\n"
     ]
    }
   ],
   "source": [
    "# string to experiment with: place\n",
    "place = \"poolhouse\"\n",
    "\n",
    "# Use upper() on place: place_up\n",
    "place_up= place.upper()\n",
    "\n",
    "# Print out place and place_up\n",
    "print(place)\n",
    "print(place_up)\n",
    "\n",
    "# Print out the number of o's in place\n",
    "print(place.count(\"o\"))"
   ]
  },
  {
   "cell_type": "markdown",
   "id": "82bdc31e",
   "metadata": {},
   "source": [
    "16. List Methods\n",
    "\n",
    "Use the index() method to get the index of the element in areas that is equal to 20.0. Print out this index.\n",
    "\n",
    "Call count() on areas to find out how many times 9.50 appears in the list. Again, simply print out this number."
   ]
  },
  {
   "cell_type": "code",
   "execution_count": 50,
   "id": "cc68f6d1",
   "metadata": {},
   "outputs": [
    {
     "name": "stdout",
     "output_type": "stream",
     "text": [
      "2\n",
      "1\n"
     ]
    }
   ],
   "source": [
    "# Create list areas\n",
    "areas = [11.25, 18.0, 20.0, 10.75, 9.50]\n",
    "\n",
    "# Print out the index of the element 20.0\n",
    "print(areas.index(20.0))\n",
    "\n",
    "# Print out how often 9.50 appears in areas\n",
    "print(areas.count(9.50))"
   ]
  },
  {
   "cell_type": "markdown",
   "id": "95154b20",
   "metadata": {},
   "source": [
    "17. List Methods (2)\n",
    "\n",
    "Use append() twice to add the size of the poolhouse and the garage again: 24.5 and 15.45, respectively. Make sure to add them in this order.\n",
    "\n",
    "Print out areas\n",
    "\n",
    "Use the reverse() method to reverse the order of the elements in areas.\n",
    "\n",
    "Print out areas once more."
   ]
  },
  {
   "cell_type": "code",
   "execution_count": 55,
   "id": "abcb1c87",
   "metadata": {},
   "outputs": [
    {
     "name": "stdout",
     "output_type": "stream",
     "text": [
      "[11.25, 18.0, 20.0, 10.75, 9.5, 24.5, 15.45]\n",
      "[15.45, 24.5, 9.5, 10.75, 20.0, 18.0, 11.25]\n"
     ]
    }
   ],
   "source": [
    "# Create list areas\n",
    "areas = [11.25, 18.0, 20.0, 10.75, 9.50]\n",
    "\n",
    "# Use append twice to add poolhouse and garage size\n",
    "areas.append(24.5)\n",
    "areas.append(15.45)\n",
    "\n",
    "\n",
    "# Print out areas\n",
    "print(areas)\n",
    "\n",
    "# Reverse the orders of the elements in areas\n",
    "areas.reverse()\n",
    "\n",
    "# Print out areas\n",
    "print(areas)"
   ]
  },
  {
   "cell_type": "markdown",
   "id": "6e295354",
   "metadata": {},
   "source": [
    "18. Import package\n",
    "\n",
    "Import the math package. Now you can access the constant pi with math.pi.\n",
    "\n",
    "Calculate the circumference of the circle and store it in C.\n",
    "\n",
    "Calculate the area of the circle and store it in A."
   ]
  },
  {
   "cell_type": "code",
   "execution_count": 62,
   "id": "88dc28c7",
   "metadata": {},
   "outputs": [
    {
     "name": "stdout",
     "output_type": "stream",
     "text": [
      "2.701769682087222\n",
      "0.5808804816487527\n",
      "Circumference: 2.701769682087222\n",
      "Area: 0.5808804816487527\n"
     ]
    }
   ],
   "source": [
    "# Import the math package\n",
    "import math \n",
    "\n",
    "# Definition of radius\n",
    "r = 0.43\n",
    "\n",
    "# Calculate C\n",
    "C =  2 * r * math.pi\n",
    "print(C)\n",
    "\n",
    "# Calculate A\n",
    "A = math.pi * r ** 2\n",
    "print(A)\n",
    "\n",
    "# Build printout\n",
    "print(\"Circumference: \" + str(C))\n",
    "print(\"Area: \" + str(A))"
   ]
  },
  {
   "cell_type": "markdown",
   "id": "e020232e",
   "metadata": {},
   "source": [
    "19. Selective import\n",
    "\n",
    "Perform a selective import from the math package where you only import the radians function.\n",
    "\n",
    "Calculate the distance travelled by the Moon over 12 degrees of its orbit. Assign the result to dist. You can calculate this as r * phi, where r is the radius and phi is the angle in radians. To convert an angle in degrees to an angle in radians, use the radians() function, which you just imported.\n",
    "Print out dist."
   ]
  },
  {
   "cell_type": "code",
   "execution_count": 65,
   "id": "54212543",
   "metadata": {},
   "outputs": [
    {
     "name": "stdout",
     "output_type": "stream",
     "text": [
      "40317.10572106901\n"
     ]
    }
   ],
   "source": [
    "# Import radians function of math package\n",
    "from math import radians\n",
    "\n",
    "# Definition of radius\n",
    "r = 192500\n",
    "\n",
    "# Travel distance of Moon over 12 degrees. Store in dist.\n",
    "dist= r * radians(12)\n",
    "\n",
    "# Print out dist\n",
    "print(dist)"
   ]
  },
  {
   "cell_type": "markdown",
   "id": "e6f584c5",
   "metadata": {},
   "source": [
    "20. Your First NumPy Array\n",
    "\n",
    "Import the numpy package as np, so that you can refer to numpy with np.\n",
    "\n",
    "Use np.array() to create a numpy array from baseball. Name this array np_baseball.\n",
    "\n",
    "Print out the type of np_baseball to check that you got it right."
   ]
  },
  {
   "cell_type": "code",
   "execution_count": 66,
   "id": "18f21467",
   "metadata": {},
   "outputs": [
    {
     "name": "stdout",
     "output_type": "stream",
     "text": [
      "[180 215 210 210 188 176 209 200]\n"
     ]
    }
   ],
   "source": [
    "# Import the numpy package as np\n",
    "import numpy as np\n",
    "\n",
    "# Create list baseball\n",
    "baseball = [180, 215, 210, 210, 188, 176, 209, 200]\n",
    "\n",
    "# Create a numpy array from baseball: np_baseball\n",
    "np_baseball= np.array(baseball)\n",
    "\n",
    "# Print out type of np_baseball\n",
    "print(np_baseball)"
   ]
  },
  {
   "cell_type": "markdown",
   "id": "d9d7a625",
   "metadata": {},
   "source": [
    "21.You are a huge baseball fan. You decide to call the MLB (Major League Baseball) and ask around for some more statistics on the height of the main players. They pass along data on more than a thousand players, which is stored as a regular Python list: height_in. The height is expressed in inches. Can you make a numpy array out of it and convert the units to meters?\n",
    "\n",
    "height_in is already available and the numpy package is loaded, so you can start straight away \n",
    "\n",
    "@instructions\n",
    "\n",
    "Create a numpy array from height_in. Name this new array np_height_in.\n",
    "Print np_height_in.\n",
    "Multiply np_height_in with 0.0254 to convert all height measurements from inches to meters. Store the new values in a new array, np_height_m.\n",
    "Print out np_height_m and check if the output makes sense."
   ]
  },
  {
   "cell_type": "code",
   "execution_count": 71,
   "id": "b8bba4f4",
   "metadata": {},
   "outputs": [],
   "source": [
    "import pandas as pd\n",
    "mlb = pd.read_csv(\"http://assets.datacamp.com/course/intro_to_python/baseball.csv\")\n",
    "height_in = mlb['Height'].tolist()\n",
    "import numpy as np"
   ]
  },
  {
   "cell_type": "code",
   "execution_count": 73,
   "id": "17409178",
   "metadata": {},
   "outputs": [
    {
     "name": "stdout",
     "output_type": "stream",
     "text": [
      "[74 74 72 ... 75 75 73]\n",
      "[1.8796 1.8796 1.8288 ... 1.905  1.905  1.8542]\n"
     ]
    }
   ],
   "source": [
    "# Import numpy\n",
    "import numpy as np\n",
    "\n",
    "# Create a numpy array from height_in: np_height_in\n",
    "np_height_in= np.array(height_in)\n",
    "\n",
    "# Print out np_height_in\n",
    "print(np_height_in)\n",
    "\n",
    "# Convert np_height_in to m: np_height_m\n",
    "np_height_m= np_height_in * 0.0254\n",
    "\n",
    "# Print np_height_m\n",
    "print(np_height_m)"
   ]
  },
  {
   "cell_type": "markdown",
   "id": "3987991c",
   "metadata": {},
   "source": [
    "22. The MLB also offers to let you analyze their weight data. Again, both are available as regular Python lists: height_in and weight_lb. height_in is in inches and weight_lb is in pounds.\n",
    "\n",
    "It's now possible to calculate the BMI of each baseball player. Python code to convert height_in to a numpy array with the correct units is already available in the workspace. Follow the instructions step by step and finish the game! height_in and weight_lb are available as regular lists.\n",
    "\n",
    "@instructions\n",
    "\n",
    "Create a numpy array from the weight_lb list with the correct units. Multiply by 0.453592 to go from pounds to kilograms. Store the resulting numpy array as np_weight_kg.\n",
    "Use np_height_m and np_weight_kg to calculate the BMI of each player. Use the following equation: $$ \\mathrm{BMI} = \\frac{\\mathrm{weight (kg)}}{\\mathrm{height (m)}^2}$$ Save the resulting numpy array as bmi.\n",
    "Print out bmi."
   ]
  },
  {
   "cell_type": "code",
   "execution_count": 74,
   "id": "6fbcfba3",
   "metadata": {},
   "outputs": [],
   "source": [
    "import pandas as pd\n",
    "mlb = pd.read_csv(\"http://assets.datacamp.com/course/intro_to_python/baseball.csv\")\n",
    "height_in = mlb['Height'].tolist()\n",
    "weight_lb = mlb['Weight'].tolist()\n",
    "import numpy as np"
   ]
  },
  {
   "cell_type": "code",
   "execution_count": 75,
   "id": "45835711",
   "metadata": {},
   "outputs": [
    {
     "name": "stdout",
     "output_type": "stream",
     "text": [
      "[23.11037639 27.60406069 28.48080465 ... 25.62295933 23.74810865\n",
      " 25.72686361]\n"
     ]
    }
   ],
   "source": [
    "# Import numpy\n",
    "import numpy as np\n",
    "\n",
    "# Create array from height_in with metric units: np_height_m\n",
    "np_height_m = np.array(height_in) * 0.0254\n",
    "\n",
    "# Create array from weight_lb with metric units: np_weight_kg\n",
    "np_weight_kg= np.array(weight_lb) * 0.453592\n",
    "\n",
    "# Calculate the BMI: bmi\n",
    "bmi= np_weight_kg / np_height_m **2\n",
    "\n",
    "# Print out bmi\n",
    "print(bmi)"
   ]
  },
  {
   "cell_type": "markdown",
   "id": "d0d5bc13",
   "metadata": {},
   "source": [
    "To subset both regular Python lists and numpy arrays, you can use square brackets:"
   ]
  },
  {
   "cell_type": "code",
   "execution_count": null,
   "id": "2f96a57f",
   "metadata": {},
   "outputs": [],
   "source": [
    "x = [4 , 9 , 6, 3, 1]\n",
    "x[1]\n",
    "import numpy as np\n",
    "y = np.array(x)\n",
    "y[1]"
   ]
  },
  {
   "cell_type": "markdown",
   "id": "9a3ef606",
   "metadata": {},
   "source": [
    "For numpy specifically, you can also use boolean numpy arrays:"
   ]
  },
  {
   "cell_type": "code",
   "execution_count": null,
   "id": "3a1c4db1",
   "metadata": {},
   "outputs": [],
   "source": [
    "high = y > 5\n",
    "y[high]"
   ]
  },
  {
   "cell_type": "markdown",
   "id": "4a3972ac",
   "metadata": {},
   "source": [
    "23. The code that calculates the BMI of all baseball players is already included. Follow the instructions and reveal interesting things from the data! height_in and weight_lb are available as regular lists.\n",
    "\n",
    "\n",
    "Create a boolean numpy array: the element of the array should be True if the corresponding baseball player's BMI is below 21. You can use the < operator for this. Name the array light.\n",
    "Print the array light.\n",
    "Print out a numpy array with the BMIs of all baseball players whose BMI is below 21. Use light inside square brackets to do a selection on the bmi array."
   ]
  },
  {
   "cell_type": "code",
   "execution_count": 76,
   "id": "9f009efc",
   "metadata": {},
   "outputs": [],
   "source": [
    "import pandas as pd\n",
    "mlb = pd.read_csv(\"http://assets.datacamp.com/course/intro_to_python/baseball.csv\")\n",
    "height_in = mlb['Height'].tolist()\n",
    "weight_lb = mlb['Weight'].tolist()\n",
    "import numpy as np"
   ]
  },
  {
   "cell_type": "code",
   "execution_count": 78,
   "id": "52105011",
   "metadata": {},
   "outputs": [
    {
     "name": "stdout",
     "output_type": "stream",
     "text": [
      "[False False False ... False False False]\n",
      "[20.54255679 20.54255679 20.69282047 20.69282047 20.34343189 20.34343189\n",
      " 20.69282047 20.15883472 19.4984471  20.69282047 20.9205219 ]\n"
     ]
    }
   ],
   "source": [
    "# Import numpy\n",
    "import numpy as np\n",
    "\n",
    "# Calculate the BMI: bmi\n",
    "np_height_m = np.array(height_in) * 0.0254\n",
    "np_weight_kg = np.array(weight_lb) * 0.453592\n",
    "bmi = np_weight_kg / np_height_m ** 2\n",
    "\n",
    "# Create the light array\n",
    "light= bmi < 21\n",
    "\n",
    "# Print out light\n",
    "print(light)\n",
    "\n",
    "# Print out BMIs of all baseball players whose BMI is below 21\n",
    "print(bmi[light])"
   ]
  },
  {
   "cell_type": "code",
   "execution_count": null,
   "id": "d7e29b56",
   "metadata": {},
   "outputs": [],
   "source": []
  },
  {
   "cell_type": "code",
   "execution_count": null,
   "id": "004bf2f7",
   "metadata": {},
   "outputs": [],
   "source": []
  },
  {
   "cell_type": "code",
   "execution_count": null,
   "id": "ed03e651",
   "metadata": {},
   "outputs": [],
   "source": []
  },
  {
   "cell_type": "code",
   "execution_count": null,
   "id": "e4749871",
   "metadata": {},
   "outputs": [],
   "source": []
  },
  {
   "cell_type": "code",
   "execution_count": null,
   "id": "623d2868",
   "metadata": {},
   "outputs": [],
   "source": []
  },
  {
   "cell_type": "code",
   "execution_count": null,
   "id": "53ef5a3b",
   "metadata": {},
   "outputs": [],
   "source": []
  },
  {
   "cell_type": "code",
   "execution_count": null,
   "id": "6a286098",
   "metadata": {},
   "outputs": [],
   "source": []
  },
  {
   "cell_type": "code",
   "execution_count": null,
   "id": "826c208e",
   "metadata": {},
   "outputs": [],
   "source": []
  },
  {
   "cell_type": "code",
   "execution_count": null,
   "id": "2703caec",
   "metadata": {},
   "outputs": [],
   "source": []
  }
 ],
 "metadata": {
  "kernelspec": {
   "display_name": "Python 3 (ipykernel)",
   "language": "python",
   "name": "python3"
  },
  "language_info": {
   "codemirror_mode": {
    "name": "ipython",
    "version": 3
   },
   "file_extension": ".py",
   "mimetype": "text/x-python",
   "name": "python",
   "nbconvert_exporter": "python",
   "pygments_lexer": "ipython3",
   "version": "3.11.5"
  }
 },
 "nbformat": 4,
 "nbformat_minor": 5
}
